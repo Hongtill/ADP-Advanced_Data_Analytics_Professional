{
 "cells": [
  {
   "cell_type": "code",
   "execution_count": null,
   "metadata": {},
   "outputs": [],
   "source": [
    "# from matplotlib import rc\n",
    "# font_name = 'NanumBarunGothic'\n",
    "# rc('font', family=font_name)\n",
    "\n",
    "import koreanize_matplotlib # matplotlib 한글 출력 깨짐 방지"
   ]
  },
  {
   "cell_type": "markdown",
   "metadata": {},
   "source": [
    "#### 1. 도수분포표\n",
    "```\n",
    "import pandas as pd  \n",
    "pd.crosstab(index, colnames, columns) \n",
    "```\n",
    "- index : 범주로 구분된 입력자료\n",
    "- colnames : 범주(항목)에 해당하는 열의 이름 지정 (리스트 형태로 정의 [\"이름\"])\n",
    "- columns : 도수가 저장되는 열의 이름 지정 "
   ]
  },
  {
   "cell_type": "code",
   "execution_count": 18,
   "metadata": {},
   "outputs": [
    {
     "name": "stdout",
     "output_type": "stream",
     "text": [
      "질병   도수\n",
      "감염    7\n",
      "각종암  10\n",
      "순환기  10\n"
     ]
    }
   ],
   "source": [
    "import pandas as pd \n",
    "import numpy as np\n",
    "\n",
    "death = np.array([1,2,3,1,2,3,1,2,3,1,2,3,1,2,3,3,3,3,3,3,2,2,2,2,2,1,1,])\n",
    "table = pd.crosstab(index = death, colnames = ['질병'], columns = '도수')\n",
    "table.index = [\"감염\", \"각종암\", '순환기']\n",
    "\n",
    "print(table)"
   ]
  },
  {
   "cell_type": "markdown",
   "metadata": {},
   "source": [
    "#### 그래프로 나타내기\n",
    "\n",
    "```\n",
    "import matplotlib.pyplot as plt\n",
    "table.plot(kind='bar', color='색상', legend=False)\n",
    "plt.xlabel('x축 이름')\n",
    "plt.ylabel('y축 이름')\n",
    "plt.title('그래프 이름')\n",
    "plt.xticks(rotation=x축의 tick 이름의 회전각도)\n",
    "plt.show()\n",
    "```\n",
    "- kind = 'bar' ,'barh'\n",
    "- color = '색상값' ex) 'black', 'blue'\n",
    "- legend = True or False (범례의 출력 여부)"
   ]
  },
  {
   "cell_type": "code",
   "execution_count": 19,
   "metadata": {},
   "outputs": [
    {
     "data": {
      "image/png": "[encoded data removed]",
      "text/plain": [
       "<Figure size 640x480 with 1 Axes>"
      ]
     },
     "metadata": {},
     "output_type": "display_data"
    }
   ],
   "source": [
    "import matplotlib.pyplot as plt\n",
    "table.plot(kind='bar', color='blue', legend=False)\n",
    "plt.xlabel('사망원인')\n",
    "plt.ylabel('빈도수')\n",
    "plt.title('사망원인에 따른 막대그래프')\n",
    "plt.xticks(rotation=0)\n",
    "plt.show()"
   ]
  },
  {
   "cell_type": "code",
   "execution_count": null,
   "metadata": {},
   "outputs": [],
   "source": []
  }
 ],
 "metadata": {
  "kernelspec": {
   "display_name": "adp",
   "language": "python",
   "name": "python3"
  },
  "language_info": {
   "codemirror_mode": {
    "name": "ipython",
    "version": 3
   },
   "file_extension": ".py",
   "mimetype": "text/x-python",
   "name": "python",
   "nbconvert_exporter": "python",
   "pygments_lexer": "ipython3",
   "version": "3.9.2"
  }
 },
 "nbformat": 4,
 "nbformat_minor": 2
}
